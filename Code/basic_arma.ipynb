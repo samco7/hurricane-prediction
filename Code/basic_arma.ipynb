{
 "cells": [
  {
   "cell_type": "code",
   "execution_count": 1,
   "id": "turned-fundamental",
   "metadata": {},
   "outputs": [],
   "source": [
    "# Import packages\n",
    "import numpy as np\n",
    "from statsmodels.tsa.arima.model import ARIMA\n",
    "import pickle\n",
    "from matplotlib import pyplot as plt\n",
    "plt.style.use('seaborn')"
   ]
  },
  {
   "cell_type": "code",
   "execution_count": 2,
   "id": "plastic-object",
   "metadata": {},
   "outputs": [],
   "source": [
    "# Load the data\n",
    "atlantic = pickle.load(open('./../Data/atlantic_series.pickle', 'rb'))\n",
    "\n",
    "# Set up to train on a single hurricane (ALEX)\n",
    "hurr = atlantic[0]\n",
    "cutoff = hurr.shape[0]//5*4\n",
    "X = hurr.iloc[1:cutoff, 4:].to_numpy() # Train on 80% of the data\n",
    "y = hurr.iloc[1:cutoff, 2:4].to_numpy() # Train on 80% of the data\n",
    "y_test = hurr.iloc[cutoff-1:, 2:4].to_numpy()\n",
    "lat = y[:, 0]\n",
    "long = y[:, 1]"
   ]
  },
  {
   "cell_type": "code",
   "execution_count": 4,
   "id": "european-porcelain",
   "metadata": {},
   "outputs": [
    {
     "name": "stderr",
     "output_type": "stream",
     "text": [
      "C:\\ProgramData\\Anaconda3\\lib\\site-packages\\statsmodels\\tsa\\arima\\estimators\\gls.py:287: UserWarning: Feasible GLS failed to converge in 50 iterations. Consider increasing the maximum number of iterations using the `max_iter` argument or reducing the required tolerance using the `tolerance` argument.\n",
      "  warnings.warn('Feasible GLS failed to converge in %d iterations.'\n"
     ]
    }
   ],
   "source": [
    "# Make and train a model\n",
    "lat_model = ARIMA(lat, order=(2, 0, 2)).fit(method='innovations_mle')\n",
    "long_model = ARIMA(long, order=(2, 0, 2)).fit(method='innovations_mle')"
   ]
  },
  {
   "cell_type": "code",
   "execution_count": 5,
   "id": "extensive-moral",
   "metadata": {},
   "outputs": [
    {
     "ename": "NameError",
     "evalue": "name 'alex' is not defined",
     "output_type": "error",
     "traceback": [
      "\u001b[1;31m---------------------------------------------------------------------------\u001b[0m",
      "\u001b[1;31mNameError\u001b[0m                                 Traceback (most recent call last)",
      "\u001b[1;32m<ipython-input-5-c937517dccf5>\u001b[0m in \u001b[0;36m<module>\u001b[1;34m\u001b[0m\n\u001b[1;32m----> 1\u001b[1;33m \u001b[0mpred_lat\u001b[0m \u001b[1;33m=\u001b[0m \u001b[0mlat_model\u001b[0m\u001b[1;33m.\u001b[0m\u001b[0mpredict\u001b[0m\u001b[1;33m(\u001b[0m\u001b[0mstart\u001b[0m\u001b[1;33m=\u001b[0m\u001b[0mcutoff\u001b[0m\u001b[1;33m-\u001b[0m\u001b[1;36m1\u001b[0m\u001b[1;33m,\u001b[0m \u001b[0mend\u001b[0m\u001b[1;33m=\u001b[0m\u001b[0malex\u001b[0m\u001b[1;33m.\u001b[0m\u001b[0mshape\u001b[0m\u001b[1;33m[\u001b[0m\u001b[1;36m0\u001b[0m\u001b[1;33m]\u001b[0m\u001b[1;33m)\u001b[0m\u001b[1;33m\u001b[0m\u001b[1;33m\u001b[0m\u001b[0m\n\u001b[0m\u001b[0;32m      2\u001b[0m \u001b[0mpred_long\u001b[0m \u001b[1;33m=\u001b[0m \u001b[0mlong_model\u001b[0m\u001b[1;33m.\u001b[0m\u001b[0mpredict\u001b[0m\u001b[1;33m(\u001b[0m\u001b[0mstart\u001b[0m\u001b[1;33m=\u001b[0m\u001b[0mcutoff\u001b[0m\u001b[1;33m-\u001b[0m\u001b[1;36m1\u001b[0m\u001b[1;33m,\u001b[0m \u001b[0mend\u001b[0m\u001b[1;33m=\u001b[0m\u001b[0malex\u001b[0m\u001b[1;33m.\u001b[0m\u001b[0mshape\u001b[0m\u001b[1;33m[\u001b[0m\u001b[1;36m0\u001b[0m\u001b[1;33m]\u001b[0m\u001b[1;33m)\u001b[0m\u001b[1;33m\u001b[0m\u001b[1;33m\u001b[0m\u001b[0m\n\u001b[0;32m      3\u001b[0m \u001b[0mpred_lat\u001b[0m\u001b[1;33m\u001b[0m\u001b[1;33m\u001b[0m\u001b[0m\n",
      "\u001b[1;31mNameError\u001b[0m: name 'alex' is not defined"
     ]
    }
   ],
   "source": [
    "pred_lat = lat_model.predict(start=cutoff-1, end=alex.shape[0])\n",
    "pred_long = long_model.predict(start=cutoff-1, end=alex.shape[0])\n",
    "pred_lat"
   ]
  },
  {
   "cell_type": "code",
   "execution_count": null,
   "id": "northern-insurance",
   "metadata": {},
   "outputs": [],
   "source": [
    "plt.plot(y[:, 0], y[:, 1])\n",
    "plt.plot(y_test[:, 0], y_test[:, 1])\n",
    "plt.plot(pred_lat, pred_long)"
   ]
  }
 ],
 "metadata": {
  "kernelspec": {
   "display_name": "Python 3",
   "language": "python",
   "name": "python3"
  },
  "language_info": {
   "codemirror_mode": {
    "name": "ipython",
    "version": 3
   },
   "file_extension": ".py",
   "mimetype": "text/x-python",
   "name": "python",
   "nbconvert_exporter": "python",
   "pygments_lexer": "ipython3",
   "version": "3.8.8"
  }
 },
 "nbformat": 4,
 "nbformat_minor": 5
}
