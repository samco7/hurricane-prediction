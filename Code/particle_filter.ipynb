{
 "cells": [
  {
   "cell_type": "code",
   "execution_count": 1,
   "metadata": {},
   "outputs": [],
   "source": [
    "import pickle\n",
    "import numpy as np\n",
    "import nltk\n",
    "with open('/Users/chelsey/Documents/ACME Labs/Project_Vol_3/hurricane-prediction/Data/atlantic_series.pickle','rb') as f:\n",
    "    atlantic = pickle.load(f)\n",
    "with open('/Users/chelsey/Documents/ACME Labs/Project_Vol_3/hurricane-prediction/Data/pacific_series.pickle','rb') as f:\n",
    "    pacific = pickle.load(f)"
   ]
  },
  {
   "cell_type": "code",
   "execution_count": null,
   "metadata": {},
   "outputs": [],
   "source": []
  }
 ],
 "metadata": {
  "kernelspec": {
   "display_name": "Python 3",
   "language": "python",
   "name": "python3"
  },
  "language_info": {
   "codemirror_mode": {
    "name": "ipython",
    "version": 3
   },
   "file_extension": ".py",
   "mimetype": "text/x-python",
   "name": "python",
   "nbconvert_exporter": "python",
   "pygments_lexer": "ipython3",
   "version": "3.7.9"
  }
 },
 "nbformat": 4,
 "nbformat_minor": 4
}
